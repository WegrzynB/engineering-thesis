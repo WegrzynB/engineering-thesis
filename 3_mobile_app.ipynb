{
 "cells": [
  {
   "cell_type": "markdown",
   "metadata": {},
   "source": [
    "W tym, ostatnim już, notatniku omówię budowę aplikacji mobilnej mającej na celu wykorzystanie utworzonych wcześniej modeli do rozpoznawania kart do gry."
   ]
  },
  {
   "cell_type": "markdown",
   "metadata": {},
   "source": [
    "## Schemat wyglądu aplikacji"
   ]
  },
  {
   "cell_type": "markdown",
   "metadata": {},
   "source": [
    "Zobaczmy sobie na wczesny schemat budowy aplikacji (utworzony jeszcze przed rozpoczęciem pisania kodu):"
   ]
  },
  {
   "cell_type": "markdown",
   "metadata": {},
   "source": [
    "<div style=\"text-align: center; width: 100%;\">\n",
    "    <img src='data/schemat.png' alt=\"Schemat\" style=\"text-align: center;\" width=\"90%\"/>\n",
    "</div>"
   ]
  },
  {
   "cell_type": "markdown",
   "metadata": {},
   "source": [
    "Finalna wersja w miarę pokrywa się z tymi założeniami."
   ]
  },
  {
   "cell_type": "markdown",
   "metadata": {},
   "source": [
    "## Budowa aplikacji / instrukcja"
   ]
  },
  {
   "cell_type": "markdown",
   "metadata": {},
   "source": [
    "Zobaczmy oraz omówmy finalną budowę aplikacji.\n",
    "\n",
    "UWAGA!\n",
    "Aplikacja może wymagać minimum 3/4 GB RAMu."
   ]
  },
  {
   "cell_type": "markdown",
   "metadata": {},
   "source": [
    "### Menu główne"
   ]
  },
  {
   "cell_type": "markdown",
   "metadata": {},
   "source": [
    "<div style=\"text-align: center; width: 100%;\">\n",
    "    <p style=\"text-align: center; font-size: 20px\">Menu główne</p>\n",
    "    <img src='data/images/main_menu.jpg' alt=\"Menu główne\" style=\"text-align: center;\" width=\"300 px\"/>\n",
    "</div>"
   ]
  },
  {
   "cell_type": "markdown",
   "metadata": {},
   "source": [
    "Tak prezentuje się `Menu główne`. Poza napisem na samej górze mamy jeszcze podanego autora aplikacji (czyli mnie) oraz 3 przyciski:\n",
    "\n",
    "- *`Zrób zdjęcie`* - przenosi nas do aparatu, aby wykonać zdjęcie (o ile udzielimy odpowiednich uprawnień)\n",
    "\n",
    "- *`Wczytaj zdjęcie`* - przenosi nas do galerii, z której możemy wybrać dowolne zdjęcie\n",
    "\n",
    "- *`Zobacz zapisane`* - pokazuje nam listę wszystkich wykonanych zapisów (przenosi nas do sekcji `Zapisane pozycje`)\n",
    "\n",
    "\n",
    "Przycisk cofania powoduje wyjście z aplikacji."
   ]
  },
  {
   "cell_type": "markdown",
   "metadata": {},
   "source": [
    "### Zrób zdjęcie"
   ]
  },
  {
   "cell_type": "markdown",
   "metadata": {},
   "source": [
    "<div style=\"display: flex;\">\n",
    "    <div style=\"text-align: center; width: 50%;\">\n",
    "        <p style=\"text-align: center; font-size: 20px\">Zrób zdjęcie</p>\n",
    "        <img src='data/images/take_photo.jpg' alt=\"Zrób zdjęcie\" style=\"text-align: center;\" width=\"300 px\"/>\n",
    "    </div>\n",
    "    <div style=\"text-align: center; width: 50%;\">\n",
    "        <p style=\"text-align: center; font-size: 20px\">Akceptacja zrobionego zdjęcia</p>\n",
    "        <img src='data/images/take_photo_accept.jpg' alt=\"Akceptacja zrobionego zdjęcia\" style=\"text-align: center;\" width=\"300 px\"/>\n",
    "    </div>\n",
    "</div>"
   ]
  },
  {
   "cell_type": "markdown",
   "metadata": {},
   "source": [
    "`Zrób zdjęcie` to sekcja, w której, po udzieleniu uprawnień do korzystania z aparatu, mamy do dyspozycji aparat telefonu. Możemy wykonać dowolne zdjęcie (tak jak na obrazie po lewej) i następnie przechodzimy do akceptacji naszego zdjęcia (obraz po lewej). Jeżeli odrzucimy zrobione zdjęcie, to wracamy z powrotem do aparatu, a jeśli zaakceptujemy to idziemy dalej do sekcji `Wybór trybu i modelu`."
   ]
  },
  {
   "cell_type": "markdown",
   "metadata": {},
   "source": [
    "### Wczytaj zdjęcie"
   ]
  },
  {
   "cell_type": "markdown",
   "metadata": {},
   "source": [
    "<div style=\"text-align: center; width: 100%;\">\n",
    "    <p style=\"text-align: center; font-size: 20px\">Wybór zdjęcia</p>\n",
    "    <img src='data/images/select_photo.jpg' alt=\"Wybór zdjęcia\" style=\"text-align: center;\" width=\"300 px\"/>\n",
    "</div>"
   ]
  },
  {
   "cell_type": "markdown",
   "metadata": {},
   "source": [
    "`Wczytaj zdjęcie` pozwala nam wybrać z galerii dowolne zdjęcie, po czym przenosi nas do `Wybór trybu i modelu`."
   ]
  },
  {
   "cell_type": "markdown",
   "metadata": {},
   "source": [
    "### Wybór trybu i modelu"
   ]
  },
  {
   "cell_type": "markdown",
   "metadata": {},
   "source": [
    "<div style=\"display: flex;\">\n",
    "    <div style=\"text-align: center; width: 33%;\">\n",
    "        <p style=\"text-align: center; font-size: 20px\">Wybór trybu i modelu</p>\n",
    "        <img src='data/images/select_mode_model.jpg' alt=\"Wybór trybu i modelu\" style=\"text-align: center;\" width=\"300 px\"/>\n",
    "    </div>\n",
    "    <div style=\"text-align: center; width: 33%;\">\n",
    "        <p style=\"text-align: center; font-size: 20px\">Tryby</p>\n",
    "        <img src='data/images/select_mode_model_modes.jpg' alt=\"Wybór trybu i modelu: tryby\" style=\"text-align: center;\" width=\"300 px\"/>\n",
    "    </div>\n",
    "    <div style=\"text-align: center; width: 33%;\">\n",
    "        <p style=\"text-align: center; font-size: 20px\">Modele</p>\n",
    "        <img src='data/images/select_mode_model_models.jpg' alt=\"Wybór trybu i modelu: modele\" style=\"text-align: center;\" width=\"300 px\"/>\n",
    "    </div>\n",
    "</div>"
   ]
  },
  {
   "cell_type": "markdown",
   "metadata": {},
   "source": [
    "W `Wybór trybu i modelu` możemy dostosować ustawienia dotyczące detekcji, takie jak:\n",
    "\n",
    "- **Wybierz tryb** - Odpowiada za to jak dzielimy detekcje znalezione przez model. Wyróżniamy 3 opcje:\n",
    "    - *Detekcja kart* - domyślna opcja, po prostu wykrywa karty. Każda karta ma swój własny kolor.\n",
    "    - *Poker Klasyczny* - wykrywa karty oraz dzieli detekcję na grupy po 5 kart. Każda grupa ma swój unikalny kolor. Dodatkowo zaznacza wygranych graczy.\n",
    "    - *Poker Texas* - również wykrywa karty i dokonuje podziału na grupy. Najpierw tworzy jedną grupę 5 kart (tzw. Kary wspólne), a następnie tworzy grupy po 2 karty, z unikalnymi kolorami oraz zaznacza wygranych graczy.\n",
    "\n",
    "    Każda detekcja będzie zaznaczona ramką wokół rogu karty z figurą i symbolem karty oraz napisem na przeźroczystym tle.\n",
    "    UWAGA! Dla opcji *Poker Klasyczny* i *Poker Texas* upewnij się, że odległości między grupami kart są wystarczające, aby nastąpił odpowiedni podział.\n",
    "\n",
    "\n",
    "- **Wybierz rozdzielczość modelu** - Ta opcja pozwala nam zdecydować jakiego modelu użyjemy. Możliwe wybory reprezentują rozdzielczość do jakiej zostanie sprowadzony oryginalny obraz w celu wykorzystania na nim modelu (jest to rozdzielczość wymagana na wejściu modelu). Tutaj mamy do wyboru 4 opcje:\n",
    "    - *320x320* - najmniejszy oraz najszybszy model. Posiada również najniższą dokładność.\n",
    "    - *640x640* - łączy w sobie dużą szybkość oraz dokładność, jest to domyślny wybór.\n",
    "    - *1024x1024* - również stosunkowo szybki i bardzo dokładny.\n",
    "    - *1600x1600* - najwolniejszy, ale i również najdokładniejszy z wszystkich modeli.\n",
    "\n",
    "\n",
    "- **Wyświetlić pewność detekcji?** - Decyduje o tym, czy wyświetlić w tekście danej detekcji dodatkowo informację o jej pewności w procentach.\n",
    "\n",
    "\n",
    "- **Próg detekcji** - Pozwala nam dostosować od ilu procent pewności akceptujemy detekcje.\n",
    "\n",
    "\n",
    "Kliknięcie na przycisk *`OK`* wyświetla nam na ekranie sekcję `Trwa detekcja` i rozpoczyna pracę modelu."
   ]
  },
  {
   "cell_type": "markdown",
   "metadata": {},
   "source": [
    "### Trwa detekcja"
   ]
  },
  {
   "cell_type": "markdown",
   "metadata": {},
   "source": [
    "<div style=\"display: flex;\">\n",
    "    <div style=\"text-align: center; width: 100%;\">\n",
    "        <p style=\"text-align: center; font-size: 20px\">Trwa praca modelu</p>\n",
    "        <img src='data/images/model_loading.jpg' alt=\"Trwa praca modelu\" style=\"text-align: center;\" width=\"300 px\"/>\n",
    "    </div>\n",
    "</div>"
   ]
  },
  {
   "cell_type": "markdown",
   "metadata": {},
   "source": [
    "`Trwa detekcja` jest sekcją, w której aplikacja jest nieresponsywna, ponieważ model wykonuję wszystkie wymagane operację. Po zakończeniu zostajemy przeniesieni do sekcji `Informacje o detekcji`."
   ]
  },
  {
   "cell_type": "markdown",
   "metadata": {},
   "source": [
    "### Informacje o detekcji"
   ]
  },
  {
   "cell_type": "markdown",
   "metadata": {},
   "source": [
    "<div style=\"text-align: center; width: 100%;\">\n",
    "    <p style=\"text-align: center; font-size: 20px\">Oryginalne zdjęcie</p>\n",
    "    <img src='data/images/photo_info_1.jpg' alt=\"Informacje o detekcji: oryginalne zdęcie\" style=\"text-align: center;\" width=\"300 px\"/>\n",
    "</div>"
   ]
  },
  {
   "cell_type": "markdown",
   "metadata": {},
   "source": [
    "<div style=\"display: flex;\">\n",
    "    <div style=\"text-align: center; width: 100%;\">\n",
    "        <p style=\"text-align: center; font-size: 20px\">Zdjęcie z detekcjami - Detekcja kart</p>\n",
    "        <img src='data/images/photo_info_2.jpg' alt=\"Informacje o detekcji: zdjęcie z detekcjami - Detekcja kart\" style=\"text-align: center;\" width=\"300 px\"/>\n",
    "    </div>\n",
    "    <div style=\"text-align: center; width: 100%;\">\n",
    "        <p style=\"text-align: center; font-size: 20px\">Zdjęcie z detekcjami - Poker klasyczny</p>\n",
    "        <img src='data/images/photo_info_2_poker_classic.jpg' alt=\"Informacje o detekcji: zdjęcie z detekcjami - Poker klasyczny\" style=\"text-align: center;\" width=\"300 px\"/>\n",
    "    </div>\n",
    "    <div style=\"text-align: center; width: 100%;\">\n",
    "        <p style=\"text-align: center; font-size: 20px\">Zdjęcie z detekcjami - Poker texas</p>\n",
    "        <img src='data/images/photo_info_2_poker_texas.jpg' alt=\"Informacje o detekcji: zdjęcie z detekcjami - Poker texas\" style=\"text-align: center;\" width=\"300 px\"/>\n",
    "    </div>\n",
    "</div>"
   ]
  },
  {
   "cell_type": "markdown",
   "metadata": {},
   "source": [
    "<div style=\"display: flex;\">\n",
    "    <div style=\"text-align: center; width: 100%;\">\n",
    "        <p style=\"text-align: center; font-size: 20px\">Informacje 1</p>\n",
    "        <img src='data/images/photo_info_3.jpg' alt=\"Informacje o detekcji: informacje 1\" style=\"text-align: center;\" width=\"300 px\"/>\n",
    "    </div>\n",
    "    <div style=\"text-align: center; width: 100%;\">\n",
    "        <p style=\"text-align: center; font-size: 20px\">Informacje 2</p>\n",
    "        <img src='data/images/photo_info_3_2.jpg' alt=\"Informacje o detekcji: informacje 2\" style=\"text-align: center;\" width=\"300 px\"/>\n",
    "    </div>\n",
    "</div>"
   ]
  },
  {
   "cell_type": "markdown",
   "metadata": {},
   "source": [
    "<div style=\"display: flex;\">\n",
    "    <div style=\"text-align: center; width: 100%;\">\n",
    "        <p style=\"text-align: center; font-size: 20px\">Wszystkie detekcje - Detekcja kart</p>\n",
    "        <img src='data/images/photo_info_4.jpg' alt=\"Informacje o detekcji: wszystkie detekcje\" style=\"text-align: center;\" width=\"300 px\"/>\n",
    "    </div>\n",
    "    <div style=\"text-align: center; width: 100%; style=display: flex;\">\n",
    "        <p style=\"text-align: center; font-size: 20px\">Gracze - Poker klasyczny</p>\n",
    "        <div style=\"text-align: center; width: 100%;\">\n",
    "            <img src='data/images/photo_info_4_poker_classic.jpg' alt=\"Informacje o detekcji: poker klasyczny 1\" style=\"text-align: center;\" width=\"300 px\"/>\n",
    "        </div>\n",
    "        <p></p>\n",
    "        <div style=\"text-align: center; width: 100%;\">\n",
    "            <img src='data/images/photo_info_4_poker_classic_2.jpg' alt=\"Informacje o detekcji: poker klasyczny 2\" style=\"text-align: center;\" width=\"300 px\"/>\n",
    "        </div>\n",
    "    </div>\n",
    "    <div style=\"text-align: center; width: 100%; style=display: flex;\">\n",
    "        <p style=\"text-align: center; font-size: 20px\">Gracze - Poker texas</p>\n",
    "        <div style=\"text-align: center; width: 100%;\">\n",
    "            <img src='data/images/photo_info_4_poker_texas.jpg' alt=\"Informacje o detekcji: poker texas 1\" style=\"text-align: center;\" width=\"300 px\"/>\n",
    "        </div>\n",
    "        <p></p>\n",
    "        <div style=\"text-align: center; width: 100%;\">\n",
    "            <img src='data/images/photo_info_4_poker_texas_2.jpg' alt=\"Informacje o detekcji: poker texas 2\" style=\"text-align: center;\" width=\"300 px\"/>\n",
    "        </div>\n",
    "    </div>\n",
    "</div>"
   ]
  },
  {
   "cell_type": "markdown",
   "metadata": {},
   "source": [
    "`Informacje o detekcji` jest dużą sekcją przedstawiającą wszystkie informację o detekcjach. Widzimy w niej:\n",
    "- 2 przyciski:\n",
    "    - *`Menu główne`* - przenosi nas do sekcji `Menu główne`.\n",
    "    - *`Zapisz`* - powoduje przejście do sekcji `Zapisz`.\n",
    "\n",
    "- Widok aktualnej strony - Przedstawia nam różne treści z informacjami, w zależności od numeru strony:\n",
    "    - **1.** *Oryginalne zdjęcie* - pokazuje nam oryginalne zdjęcie, na którym poszukiwaliśmy detekcji.\n",
    "    - **2.** *Zdjęcie z detekcjami* - w zależności od wybranego trybu i tego czy chcemy widzieć pewność detekcji pokazuje nam obraz z detekcjami:\n",
    "        - \"Detekcja kart\" - zaznacza detekcję w ramkę oraz pokazuje jaka to karta (każda karta ma swój unikalny kolor ramki)\n",
    "        - \"Poker Klasyczny\" - zaznacza detekcję, ale grupuje je po 5 kart. Każda grupa ma swój kolor oraz wygrana grupa (lub kilka) jest zaznaczona złotym owalem.\n",
    "        - \"Poker Texas\" - również zaznacza detekcję. Tworzy jedną grupę 5 kart i pozostałe po 2. Też zaznacza wygraych złotym owalem.\n",
    "    - **3.** *Informację o detekcji* - wyświetla następujące informację o detekcji:\n",
    "        - Tryb,\n",
    "        - Oryginalna rozdzielczość ekranu,\n",
    "        - Rozdzielczość modelu,\n",
    "        - Model,\n",
    "        - Próg detekcji,\n",
    "        - zas trwania detekcji,\n",
    "        - Liczba wszystkich detekcji,\n",
    "        - Liczba unikanych kart,\n",
    "        - Wyryte karty:\n",
    "            - Dla trybu \"Detekcja kart\" są to unikalne karty z największą pewnością.\n",
    "            - Dla trybów \"Poker Klasyczny\" i \"Poker Texas\" są to wszystkie detekcje posortowane pewnością.\n",
    "    - **4.** *Wszystkie detekcje* lub *Gracze* - W zależności od trybu:\n",
    "        - \"Detekcja kart\" - wyświetla wszystkie znalezione detekcje, posortowane od najpewniejszych.\n",
    "        - \"Poker Klasyczny\" - wyświetla wygranego gracza oraz rękę i najlepszą kombinację wszystkich graczy.\n",
    "        - \"Poker Texas\" - pokazuje wygranego gracza, karty wspólne oraz rękę i najlepszą kombinację wszystkich graczy.\n",
    "\n",
    "- Numery stron, włącznie z aktualnie wybraną."
   ]
  },
  {
   "cell_type": "markdown",
   "metadata": {},
   "source": [
    "### Zapisz"
   ]
  },
  {
   "cell_type": "markdown",
   "metadata": {},
   "source": [
    "<div style=\"text-align: center; width: 100%;\">\n",
    "    <p style=\"text-align: center; font-size: 20px\">Zapisz</p>\n",
    "    <img src='data/images/photo_save.jpg' alt=\"Zapisz\" style=\"text-align: center;\" width=\"300 px\"/>\n",
    "</div>"
   ]
  },
  {
   "cell_type": "markdown",
   "metadata": {},
   "source": [
    "Sekcja `Zapisz` jest odpowiedzialna za tworzenia zapisu na podstawie naszej detekcji. Mamy tutaj:\n",
    "\n",
    "- Miejsce do wprowadzenia \"Nazwy zapisu\" o długości od 1 do 25 znaków.\n",
    "\n",
    "- Miejsce do wprowadzenia dowolnego opisu.\n",
    "\n",
    "- Przycisk *`Potwierdź`* - tworzy nasz zapis i przenosi nas z powrotem do sekcji `Menu główne`. Jeżeli nazwa jest pusta lub zawiera same spacje, to wyskakuje odpowiedni monit i zosajemy dalej w sekcji `Zapisz`.\n",
    "\n",
    "- Przycisk *`Wróć`* - przenosi nas do tyłu do sekcji `Informacje o detekcji`."
   ]
  },
  {
   "cell_type": "markdown",
   "metadata": {},
   "source": [
    "### Zapisane pozycje"
   ]
  },
  {
   "cell_type": "markdown",
   "metadata": {},
   "source": [
    "<div style=\"text-align: center; width: 100%;\">\n",
    "    <p style=\"text-align: center; font-size: 20px\">Zapisane pozycje</p>\n",
    "    <img src='data/images/saved_list.jpg' alt=\"Zapisane pozycje\" style=\"text-align: center;\" width=\"300 px\"/>\n",
    "</div>"
   ]
  },
  {
   "cell_type": "markdown",
   "metadata": {},
   "source": [
    "`Zapisane pozycje` pokazuje nam wszystkie zapisy obecne na urządzeniu. Sekcja składa się z następujących elementów:\n",
    "\n",
    "- Na górze napis \"Zapisane pozycję:\" oraz liczba zapisów.\n",
    "\n",
    "- Poniżej napis \"Sortuj według:\" oraz przyciski umożliwiające sortowanie zaspisów wg. *Nazwy* lub *Daty*, malejąco lub rosnąco.\n",
    "\n",
    "- Dalej mamy listę wszystkich zapisów. Każdy element składa się z:\n",
    "    - Nazwy zapisu,\n",
    "    - Daty oraz godziny utworzenia zapisu,\n",
    "    - Wybranego trybu detekcji,\n",
    "    - Przycisku z \"X\" odpowiadającego za usunięcie zapisu, po potwierdzeniu,\n",
    "    - Przycisku \"DETALE\", który przenosi do sekcji `Szczegóły zapisu`.\n",
    "\n",
    "- Na dole mamy przycisk *`Wróć`*. Powoduje on powrót do sekcji `Menu główne`."
   ]
  },
  {
   "cell_type": "markdown",
   "metadata": {},
   "source": [
    "### Szczegóły zapisu"
   ]
  },
  {
   "cell_type": "markdown",
   "metadata": {},
   "source": [
    "<div style=\"text-align: center; width: 100%;\">\n",
    "    <p style=\"text-align: center; font-size: 20px\">Oryginalne zdjęcie</p>\n",
    "    <img src='data/images/saved_details_1.jpg' alt=\"Szczegóły zapisu: oryginalne zdjęcie\" style=\"text-align: center;\" width=\"300 px\"/>\n",
    "</div>"
   ]
  },
  {
   "cell_type": "markdown",
   "metadata": {},
   "source": [
    "<div style=\"display: flex;\">\n",
    "    <div style=\"text-align: center; width: 100%;\">\n",
    "        <p style=\"text-align: center; font-size: 20px\">Zdjęcie z detekcjami - Detekcja kart</p>\n",
    "        <img src='data/images/saved_details_2.jpg' alt=\"Szczegóły zapisu: zdjęcie z detekcjami - Detekcja kart\" style=\"text-align: center;\" width=\"300 px\"/>\n",
    "    </div>\n",
    "    <div style=\"text-align: center; width: 100%;\">\n",
    "        <p style=\"text-align: center; font-size: 20px\">Zdjęcie z detekcjami - Poker klasyczny</p>\n",
    "        <img src='data/images/saved_details_2_poker_classic.jpg' alt=\"Szczegóły zapisu: zdjęcie z detekcjami - Poker klasyczny\" style=\"text-align: center;\" width=\"300 px\"/>\n",
    "    </div>\n",
    "    <div style=\"text-align: center; width: 100%;\">\n",
    "        <p style=\"text-align: center; font-size: 20px\">Zdjęcie z detekcjami - Poker texas</p>\n",
    "        <img src='data/images/saved_details_2_poker_texas.jpg' alt=\"Szczegóły zapisu: zdjęcie z detekcjami - Poker texas\" style=\"text-align: center;\" width=\"300 px\"/>\n",
    "    </div>\n",
    "</div>"
   ]
  },
  {
   "cell_type": "markdown",
   "metadata": {},
   "source": [
    "<div style=\"display: flex;\">\n",
    "    <div style=\"text-align: center; width: 100%;\">\n",
    "        <p style=\"text-align: center; font-size: 20px\">Informacje 1</p>\n",
    "        <img src='data/images/saved_details_3.jpg' alt=\"Szczegóły zapisu: informacje 1\" style=\"text-align: center;\" width=\"300 px\"/>\n",
    "    </div>\n",
    "    <div style=\"text-align: center; width: 100%;\">\n",
    "        <p style=\"text-align: center; font-size: 20px\">Informacje 2</p>\n",
    "        <img src='data/images/saved_details_3_2.jpg' alt=\"Szczegóły zapisu: informacje 2\" style=\"text-align: center;\" width=\"300 px\"/>\n",
    "    </div>\n",
    "</div>"
   ]
  },
  {
   "cell_type": "markdown",
   "metadata": {},
   "source": [
    "<div style=\"display: flex;\">\n",
    "    <div style=\"text-align: center; width: 100%;\">\n",
    "        <p style=\"text-align: center; font-size: 20px\">Wszystkie detekcje - Detekcja kart</p>\n",
    "        <img src='data/images/saved_details_4.jpg' alt=\"Szczegóły zapisu: wszystkie detekcje\" style=\"text-align: center;\" width=\"300 px\"/>\n",
    "    </div>\n",
    "    <div style=\"text-align: center; width: 100%; style=display: flex;\">\n",
    "        <p style=\"text-align: center; font-size: 20px\">Gracze - Poker klasyczny</p>\n",
    "        <div style=\"text-align: center; width: 100%;\">\n",
    "            <img src='data/images/saved_details_4_poker_classic.jpg' alt=\"Szczegóły zapisu: wszystkie detekcje - Poker klasyczny 1\" style=\"text-align: center;\" width=\"300 px\"/>\n",
    "        </div>\n",
    "        <p></p>\n",
    "        <div style=\"text-align: center; width: 100%;\">\n",
    "            <img src='data/images/saved_details_4_poker_classic_2.jpg' alt=\"Szczegóły zapisu: wszystkie detekcje - Poker klasyczny 2\" style=\"text-align: center;\" width=\"300 px\"/>\n",
    "        </div>\n",
    "    </div>\n",
    "    <div style=\"text-align: center; width: 100%; style=display: flex;\">\n",
    "        <p style=\"text-align: center; font-size: 20px\">Gracze - Poker texas</p>\n",
    "        <div style=\"text-align: center; width: 100%;\">\n",
    "            <img src='data/images/saved_details_4_poker_texas.jpg' alt=\"Szczegóły zapisu: wszystkie detekcje - Poker texas 1\" style=\"text-align: center;\" width=\"300 px\"/>\n",
    "        </div>\n",
    "        <p></p>\n",
    "        <div style=\"text-align: center; width: 100%;\">\n",
    "            <img src='data/images/saved_details_4_poker_texas_2.jpg' alt=\"Szczegóły zapisu: wszystkie detekcje - Poker texas 2\" style=\"text-align: center;\" width=\"300 px\"/>\n",
    "        </div>\n",
    "    </div>\n",
    "</div>"
   ]
  },
  {
   "cell_type": "markdown",
   "metadata": {},
   "source": [
    "<div style=\"text-align: center; width: 100%;\">\n",
    "    <p style=\"text-align: center; font-size: 20px\">Opis</p>\n",
    "    <img src='data/images/saved_details_5.jpg' alt=\"Szczegóły zapisu: opis\" style=\"text-align: center;\" width=\"300 px\"/>\n",
    "</div>"
   ]
  },
  {
   "cell_type": "markdown",
   "metadata": {},
   "source": [
    "<div style=\"display: flex;\">\n",
    "    <div style=\"text-align: center; width: 100%;\">\n",
    "        <p style=\"text-align: center; font-size: 20px\">Edycja 1</p>\n",
    "        <img src='data/images/saved_details_6.jpg' alt=\"Szczegóły zapisu: edycja 1\" style=\"text-align: center;\" width=\"300 px\"/>\n",
    "    </div>\n",
    "    <div style=\"text-align: center; width: 100%;\">\n",
    "        <p style=\"text-align: center; font-size: 20px\">Edycja 2</p>\n",
    "        <img src='data/images/saved_details_6_2.jpg' alt=\"Szczegóły zapisu: edycja 2\" style=\"text-align: center;\" width=\"300 px\"/>\n",
    "    </div>\n",
    "</div>"
   ]
  },
  {
   "cell_type": "markdown",
   "metadata": {},
   "source": [
    "Sekcja `Szczegóły zapisu` bardzo przypomina `Informacje o detekcji`. Jedynymi różnicami są dwie dodatkowe strony, a cała budowa sekcji prezentuje się następująco:\n",
    "- Na górze nazwa zapisu oraz data i godzina utworzenia lub edycji zapisu.\n",
    "\n",
    "- Poniżej widok aktualnej strony - Przedstawia nam różne treści z informacjami, w zależności od numeru strony:\n",
    "    - **1.** *Oryginalne zdjęcie* - pokazuje nam oryginalne zdjęcie, na którym poszukiwaliśmy detekcji.\n",
    "    - **2.** *Zdjęcie z detekcjami* - w zależności od wybranego trybu i tego czy chcemy widzieć pewność detekcji pokazuje nam obraz z detekcjami:\n",
    "        - \"Detekcja kart\" - zaznacza detekcję w ramkę oraz pokazuje jaka to karta (każda karta ma swój unikalny kolor ramki)\n",
    "        - \"Poker Klasyczny\" - zaznacza detekcję, ale grupuje je po 5 kart. Każda grupa ma swój kolor oraz wygrana grupa (lub kilka) jest zaznaczona złotym owalem.\n",
    "        - \"Poker Texas\" - również zaznacza detekcję. Tworzy jedną grupę 5 kart i pozostałe po 2. Też zaznacza wygraych złotym owalem.\n",
    "    - **3.** *Informację o detekcji* - wyświetla następujące informację o detekcji:\n",
    "        - Tryb,\n",
    "        - Oryginalna rozdzielczość ekranu,\n",
    "        - Rozdzielczość modelu,\n",
    "        - Model,\n",
    "        - Próg detekcji,\n",
    "        - zas trwania detekcji,\n",
    "        - Liczba wszystkich detekcji,\n",
    "        - Liczba unikanych kart,\n",
    "        - Wyryte karty:\n",
    "            - Dla trybu \"Detekcja kart\" są to unikalne karty z największą pewnością.\n",
    "            - Dla trybów \"Poker Klasyczny\" i \"Poker Texas\" są to wszystkie detekcje posortowane pewnością.\n",
    "    - **4.** *Wszystkie detekcje* lub *Gracze* - W zależności od trybu:\n",
    "        - \"Detekcja kart\" - wyświetla wszystkie znalezione detekcje, posortowane od najpewniejszych.\n",
    "        - \"Poker Klasyczny\" - wyświetla wygranego gracza oraz rękę i najlepszą kombinację wszystkich graczy.\n",
    "        - \"Poker Texas\" - pokazuje wygranego gracza, karty wspólne oraz rękę i najlepszą kombinację wszystkich graczy.\n",
    "    - **5.** *Opis* - pokazuje nam opis, jaki przypisaliśmy podczas tworzenia zapisu lub napis \"BRAK OPISU\", jeśli był on pusty.\n",
    "    - **6.** *Edycja* - tutaj widzimy 5 przycisków mających róźne zastosowania:\n",
    "        - *`EDYTUJ ZAPIS`* - umożliwia nam edycję nazwy oraz opisu danego zapisu, przenosi nas do sekcji bazującej na `Zapisz`.\n",
    "        - *`USUŃ ZAPIS`* - wyświetla komunikat, czy na pewno chcemy usunąć zapis. Po potwierdzeniu usuwa go.\n",
    "        - *`DETEKCJA Z UŻYCIEM INNEGO MODELU`* - przenosi nas do `Wybór trybu i modelu` z oryginalnym obrazem jako tym, na którym zostanie wykonana detekcja.\n",
    "        - *`ZAPISZ W GALERII ORYGINALNE ZDJĘCIE`* - zapisuje w galerii oryginalne zdjęcie.\n",
    "        - *`ZAPISZ W GALERII ZDJĘCIE Z DETEKCJAMI`* - zapisuje w galerii zdjęcie z detekcjami.\n",
    "\n",
    "- Następnie numery stron, włącznie z aktualnie wybraną.\n",
    "\n",
    "- Na samym dole mamy przycisk *`Wróć`*, przenoszący nas z powrotem do sekcji `Zapisane pozycje`"
   ]
  },
  {
   "cell_type": "markdown",
   "metadata": {},
   "source": [
    "---"
   ]
  },
  {
   "cell_type": "markdown",
   "metadata": {},
   "source": [
    "## Pomniejsze sekcje"
   ]
  },
  {
   "cell_type": "markdown",
   "metadata": {},
   "source": [
    "### Widok obrazu w pełnym ekranie"
   ]
  },
  {
   "cell_type": "markdown",
   "metadata": {},
   "source": [
    "<div style=\"display: flex;\">\n",
    "    <div style=\"text-align: center; width: 100%;\">\n",
    "        <p style=\"text-align: center; font-size: 20px\">Widok obrazu w pełnym ekranie</p>\n",
    "        <img src='data/images/fullscreen_image.jpg' alt=\"Widok obrazu w pełnym ekranie\" style=\"text-align: center;\" width=\"300 px\"/>\n",
    "    </div>\n",
    "    <div style=\"text-align: center; width: 100%;\">\n",
    "        <p style=\"text-align: center; font-size: 20px\">Widok obrazu w przybliżeniu</p>\n",
    "        <img src='data/images/fullscreen_image_zoom.jpg' alt=\"Widok obrazu w przybliżeniu\" style=\"text-align: center;\" width=\"300 px\"/>\n",
    "    </div>\n",
    "</div>"
   ]
  },
  {
   "cell_type": "markdown",
   "metadata": {},
   "source": [
    "Wszędzie, gdzie jest widoczne **Oryginalne zdjęcie** lub **Zdjęcie z detekcjami** możemy na nie kliknąć, aby wyświetlić je w pełnym ekranie. W tym stanie możemy je przybliżać."
   ]
  },
  {
   "cell_type": "markdown",
   "metadata": {},
   "source": [
    "### Pusta detekcja"
   ]
  },
  {
   "cell_type": "markdown",
   "metadata": {},
   "source": [
    "<div style=\"display: flex;\">\n",
    "    <div style=\"text-align: center; width: 100%;\">\n",
    "        <p style=\"text-align: center; font-size: 20px\">Brak detekcji 1</p>\n",
    "        <img src='data/images/no_detecions_1.jpg' alt=\"Brak detekcji 1\" style=\"text-align: center;\" width=\"300 px\"/>\n",
    "    </div>\n",
    "    <div style=\"text-align: center; width: 100%;\">\n",
    "        <p style=\"text-align: center; font-size: 20px\">Brak detekcji 2</p>\n",
    "        <img src='data/images/no_detecions_2.jpg' alt=\"Brak detekcji 2\" style=\"text-align: center;\" width=\"300 px\"/>\n",
    "    </div>\n",
    "    <div style=\"text-align: center; width: 100%;\">\n",
    "        <p style=\"text-align: center; font-size: 20px\">Brak detekcji 3</p>\n",
    "        <img src='data/images/no_detecions_3.jpg' alt=\"Brak detekcji 3\" style=\"text-align: center;\" width=\"300 px\"/>\n",
    "    </div>\n",
    "    <div style=\"text-align: center; width: 100%;\">\n",
    "        <p style=\"text-align: center; font-size: 20px\">Brak detekcji 4</p>\n",
    "        <img src='data/images/no_detecions_4.jpg' alt=\"Brak detekcji 4\" style=\"text-align: center;\" width=\"300 px\"/>\n",
    "    </div>\n",
    "</div>\n",
    "\n",
    "&emsp;\n",
    "\n",
    "<div style=\"display: flex;\">\n",
    "    <div style=\"text-align: center; width: 100%;\">\n",
    "        <p style=\"text-align: center; font-size: 20px\">Brak detekcji: Poker 1</p>\n",
    "        <img src='data/images/no_detecions_poker_1.jpg' alt=\"Brak detekcji: Poker 1\" style=\"text-align: center;\" width=\"300 px\"/>\n",
    "    </div>\n",
    "    <div style=\"text-align: center; width: 100%;\">\n",
    "        <p style=\"text-align: center; font-size: 20px\">Brak detekcji: Poker 2</p>\n",
    "        <img src='data/images/no_detecions_poker_2.jpg' alt=\"Brak detekcji: Poker 2\" style=\"text-align: center;\" width=\"300 px\"/>\n",
    "    </div>\n",
    "    <div style=\"text-align: center; width: 100%;\">\n",
    "        <p style=\"text-align: center; font-size: 20px\">Brak detekcji: Poker 3</p>\n",
    "        <img src='data/images/no_detecions_poker_3.jpg' alt=\"Brak detekcji: Poker 3\" style=\"text-align: center;\" width=\"300 px\"/>\n",
    "    </div>\n",
    "    <div style=\"text-align: center; width: 100%;\">\n",
    "        <p style=\"text-align: center; font-size: 20px\">Brak detekcji: Poker 4</p>\n",
    "        <img src='data/images/no_detecions_poker_4.jpg' alt=\"Brak detekcji: Poker 4\" style=\"text-align: center;\" width=\"300 px\"/>\n",
    "    </div>\n",
    "</div>"
   ]
  },
  {
   "cell_type": "markdown",
   "metadata": {},
   "source": [
    "Jeżeli model nie wykryję żadnej detekcji to na stronie **Zdjęcie z detekcjami** mamy obraz o rozmiarze oryginału, będący cały czarny z napisem \"Brak detekcji\". Dodatkowo w informacjach oraz detekcjach widzimy napis \"BRAK DETEKCJI\". Dla pokerów działa to identycznie."
   ]
  },
  {
   "cell_type": "markdown",
   "metadata": {},
   "source": [
    "## Możliwe problemy"
   ]
  },
  {
   "cell_type": "markdown",
   "metadata": {},
   "source": [
    "- Jeśli po zakończeniu detekcji zostajemy przeniesieni do sekcji `Menu główne` zamiast `Informacje o detekcji` oznacza to, że wybrany model okazał się zbyt skomplikowany dla urządzenia (prawdopodobnie ilość ramu okazała się za mała). W takim wypadku należy w sekcji `Wybór trybu i modelu` wybrać mniejszy model.\n",
    "\n",
    "- Po usunięciu aplikacji tracimy wszystkie zapisy\n",
    "\n",
    "- Tak jak wspomniane w sekcji `Wybór trybu i modelu`, jeśli wybierzesz tryb *Poker Klasyczny* lub *Poker Texas*, upewnij się, że odległości między grupami kart są wystarczające, aby nastąpił odpowiedni podział. Czasami może to wymagać ponownego ustawienia kart i zrobienia nowego zdjęcia."
   ]
  },
  {
   "cell_type": "markdown",
   "metadata": {},
   "source": [
    "## Podsumowanie"
   ]
  },
  {
   "cell_type": "markdown",
   "metadata": {},
   "source": [
    "Jak widzimy początkowy schemat mocno odwzorowuje finalny projekt (choć występuje kilka różnic). Aplikacja utworzona z przygotowanych modeli działa bardzo dobrze, nawet na nienajlepszym sprzęcie mobilnym."
   ]
  }
 ],
 "metadata": {
  "kernelspec": {
   "display_name": "Python 3 (ipykernel)",
   "language": "python",
   "name": "python3"
  },
  "language_info": {
   "codemirror_mode": {
    "name": "ipython",
    "version": 3
   },
   "file_extension": ".py",
   "mimetype": "text/x-python",
   "name": "python",
   "nbconvert_exporter": "python",
   "pygments_lexer": "ipython3",
   "version": "3.11.9"
  }
 },
 "nbformat": 4,
 "nbformat_minor": 2
}
